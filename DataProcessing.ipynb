{
 "cells": [
  {
   "cell_type": "code",
   "execution_count": 2,
   "metadata": {},
   "outputs": [
    {
     "name": "stderr",
     "output_type": "stream",
     "text": [
      "cat: examples/ex1.xlsx: No such file or directory\n"
     ]
    }
   ],
   "source": [
    "!cat examples/ex1.xlsx"
   ]
  },
  {
   "cell_type": "code",
   "execution_count": 6,
   "metadata": {},
   "outputs": [
    {
     "name": "stdout",
     "output_type": "stream",
     "text": [
      "   34   45   56   67   89   90   32   54   65   87 \n",
      "0  34   45   56   67   89   90   32   54   65   300\n",
      "1  34   45   56   67   89   90   32   54   65   500\n",
      "2  34   45   56   67   89   90   32   54   65   600\n",
      "3  34   45   56   67   89   90   32   54   65   700\n",
      "4  34   45   56   67   89   90   32   54   65   800\n",
      "5  34   45   56   67   89   90   32   54   65   900\n"
     ]
    }
   ],
   "source": [
    "import pandas as pd\n",
    "df = pd.read_csv(r'H:\\Python\\practice_files\\ReadData\\data3.txt')\n",
    "print(df)"
   ]
  },
  {
   "cell_type": "code",
   "execution_count": 10,
   "metadata": {},
   "outputs": [
    {
     "name": "stdout",
     "output_type": "stream",
     "text": [
      "   Unnamed: 0  a    b   c   d message\n",
      "0           0   1   1   2   3   hello\n",
      "1           1   5   6   7   8   world\n",
      "2           3   9  10  11  12     foo\n"
     ]
    }
   ],
   "source": [
    "import pandas as pd\n",
    "df = pd.read_csv(r'H:\\Python\\practice_files\\ReadData\\ex2.csv')\n",
    "print(df)"
   ]
  },
  {
   "cell_type": "code",
   "execution_count": null,
   "metadata": {},
   "outputs": [],
   "source": []
  }
 ],
 "metadata": {
  "kernelspec": {
   "display_name": "Python 3",
   "language": "python",
   "name": "python3"
  },
  "language_info": {
   "codemirror_mode": {
    "name": "ipython",
    "version": 3
   },
   "file_extension": ".py",
   "mimetype": "text/x-python",
   "name": "python",
   "nbconvert_exporter": "python",
   "pygments_lexer": "ipython3",
   "version": "3.7.3"
  }
 },
 "nbformat": 4,
 "nbformat_minor": 2
}
