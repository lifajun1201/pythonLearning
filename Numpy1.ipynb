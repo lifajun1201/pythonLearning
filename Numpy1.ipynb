{
 "cells": [
  {
   "cell_type": "code",
   "execution_count": 35,
   "metadata": {},
   "outputs": [
    {
     "name": "stdout",
     "output_type": "stream",
     "text": [
      "[ 5 10 15 20]\n",
      "\n",
      "[[ 5 10 15]\n",
      " [20 25 30]\n",
      " [35 40 45]]\n",
      "\n",
      "[[[1 2 3]\n",
      "  [4 5 6]\n",
      "  [7 8 9]\n",
      "  [0 1 2]\n",
      "  [0 1 2]\n",
      "  [0 1 2]\n",
      "  [0 1 2]\n",
      "  [0 1 2]\n",
      "  [0 1 2]]] \n",
      "\n",
      "3\n"
     ]
    }
   ],
   "source": [
    "# The np.array() function can take a list or list of lists as input. When we input a list, we get a one-dimensional array as a result:\n",
    "vector = np.array([5, 10, 15, 20]) # list->ndarray\n",
    "# When we input a list of lists, we get a matrix as a result:\n",
    "matrix = np.array([[5, 10, 15], [20, 25, 30], [35, 40, 45]])\n",
    "triple_matrix = np.array([[[1,2,3], [4,5,6], [7,8,9], [0,1,2], [0,1,2], [0,1,2], [0,1,2], [0,1,2], [0,1,2]]])\n",
    "print(vector)\n",
    "print()\n",
    "print(matrix)\n",
    "print()\n",
    "print(triple_matrix, '\\n')\n",
    "print(triple_matrix.ndim)"
   ]
  },
  {
   "cell_type": "code",
   "execution_count": 34,
   "metadata": {},
   "outputs": [
    {
     "name": "stdout",
     "output_type": "stream",
     "text": [
      "(4,)\n",
      "\n",
      "1 \n",
      "\n",
      "2 \n",
      "\n",
      "<class 'numpy.ndarray'>\n",
      "(2, 3)\n"
     ]
    },
    {
     "data": {
      "text/plain": [
       "dtype('int32')"
      ]
     },
     "execution_count": 34,
     "metadata": {},
     "output_type": "execute_result"
    }
   ],
   "source": [
    "# We can use the ndarray.shape property to figure out how many elements are in the array\n",
    "vector = np.array([1, 2, 3, 4]) #  一位数组-->行向量\n",
    "print(vector.shape) # 表达向量或者矩阵的结构 在神经网络的测试环节很有用处 方便理解 debug\n",
    "print()\n",
    "print(vector.ndim, '\\n')\n",
    "# For matrices, the shape property contains a tuple with 2 elements.\n",
    "matrix = np.array([[5, 10, 15], [20, 25, 30]]) # 二维数组->矩阵 2行3列\n",
    "print(matrix.ndim, '\\n')\n",
    "print(type(matrix))\n",
    "print(matrix.shape)\n",
    "matrix.dtype\n"
   ]
  },
  {
   "cell_type": "code",
   "execution_count": null,
   "metadata": {},
   "outputs": [],
   "source": [
    "# When NumPy can't convert a value to a numeric data type like float or integer, it uses a special nan value that stands for Not a Number\n",
    "# NAN is the missing data\n",
    "# 1.98600000e+03 is actually 1.986 * 10 ^ 3\n",
    "\n",
    "world_alcohol\n",
    "\n",
    "array([['Year', 'WHO region', 'Country', 'Beverage Types',\n",
    "        'Display Value'],\n",
    "       ['1986', 'Western Pacific', 'Viet Nam', 'Wine', '0'],\n",
    "       ['1986', 'Americas', 'Uruguay', 'Other', '0.5'],\n",
    "       ['1987', 'Africa', 'Malawi', 'Other', '0.75'],\n",
    "       ['1989', 'Americas', 'Bahamas', 'Wine', '1.5'],\n",
    "       ['1985', 'Africa', 'Malawi', 'Spirits', '0.31']], dtype='<U52')\n",
    "\n",
    "world_alcohol = np.genfromtxt(\"world_alcohol.txt\", delimiter=\",\", dtype=\"U75\", skip_header=1)\n",
    "\n",
    "print(world_alcohol)"
   ]
  },
  {
   "cell_type": "code",
   "execution_count": 32,
   "metadata": {},
   "outputs": [
    {
     "name": "stdout",
     "output_type": "stream",
     "text": [
      "(4, 3)\n",
      "\n",
      "2 \n",
      "\n",
      "[ 15  30  45 320]\n",
      "\n",
      "[ 10  25  40 340]\n",
      "\n",
      "[  5  20  35 120]\n",
      "\n",
      "[20 25 30]\n",
      "\n",
      "[35 40 45]\n"
     ]
    }
   ],
   "source": [
    "matrix = np.array([[5, 10, 15], [20, 25, 30],[35, 40, 45],[120, 340, 320]])\n",
    "print(matrix.shape)\n",
    "print()\n",
    "print(matrix.ndim, '\\n')\n",
    "print(matrix[:,2])   #[:,]表示所有的行 取其中的一列\n",
    "print()\n",
    "print(matrix[:,1])\n",
    "print()\n",
    "print(matrix[:,0])\n",
    "print()\n",
    "print(matrix[1,:])\n",
    "print()\n",
    "print(matrix[2,:])"
   ]
  },
  {
   "cell_type": "code",
   "execution_count": 21,
   "metadata": {},
   "outputs": [
    {
     "name": "stdout",
     "output_type": "stream",
     "text": [
      "[[ 5 10]\n",
      " [20 25]\n",
      " [35 40]]\n",
      "\n",
      "[[10]\n",
      " [25]\n",
      " [40]]\n",
      "\n",
      "[[25]]\n",
      "\n",
      "[[25]\n",
      " [40]]\n",
      "\n",
      "[[ 5 10]\n",
      " [20 25]\n",
      " [35 40]]\n"
     ]
    }
   ],
   "source": [
    "matrix = np.array([\n",
    "                    [5, 10, 15], \n",
    "                    [20, 25, 30],\n",
    "                    [35, 40, 45]\n",
    "                 ])\n",
    "# print(matrix[:,1]) [10 25 40]\n",
    "print(matrix[:,0:2]) # [:,0:2]所有样本 取两列 第零列和第一列\n",
    "print()\n",
    "print(matrix[:,1:2])\n",
    "print()\n",
    "print(matrix[1:2,1:2])\n",
    "print()\n",
    "print(matrix[1:3,1:2])\n",
    "print()\n",
    "print(matrix[0:3,0:2])"
   ]
  },
  {
   "cell_type": "code",
   "execution_count": 25,
   "metadata": {},
   "outputs": [
    {
     "name": "stdout",
     "output_type": "stream",
     "text": [
      "[False False  True False]\n"
     ]
    }
   ],
   "source": [
    "# it will compare the second value to each element in the vector\n",
    "# If the values are equal, the Python interpreter returns True; otherwise, it returns False\n",
    "vector = np.array([5, 10, 15, 20])\n",
    "# vector == 15 # 对其中每个元素都进行操作\n",
    "\n",
    "print(vector==15)\n"
   ]
  },
  {
   "cell_type": "code",
   "execution_count": 29,
   "metadata": {},
   "outputs": [
    {
     "name": "stdout",
     "output_type": "stream",
     "text": [
      "<U1\n",
      "['1' '2' '3'] \n",
      "\n",
      "float64\n",
      "[1. 2. 3.]\n"
     ]
    }
   ],
   "source": [
    "# We can convert the data type of an array with the ndarray.astype() method.\n",
    "vector = np.array([\"1\", \"2\", \"3\"])\n",
    "print(vector.dtype)\n",
    "print(vector, '\\n')\n",
    "vector = vector.astype(float)\n",
    "print(vector.dtype)\n",
    "print(vector)\n"
   ]
  },
  {
   "cell_type": "code",
   "execution_count": 37,
   "metadata": {},
   "outputs": [
    {
     "name": "stdout",
     "output_type": "stream",
     "text": [
      "[('a', '<i4'), ('b', '<i4')]\n"
     ]
    },
    {
     "data": {
      "text/plain": [
       "array([2, 4])"
      ]
     },
     "execution_count": 37,
     "metadata": {},
     "output_type": "execute_result"
    }
   ],
   "source": [
    "vector = np.array([5, 10, 15, 20])\n",
    "# vector.min()\n",
    "# vector.sum()\n",
    "# print(help(np.array))\n",
    "x = np.array([(1,2),(3,4)],dtype=[('a','<i4'),('b','<i4')])\n",
    "# x['a']\n",
    "print(x.dtype)\n",
    "x['b']\n"
   ]
  },
  {
   "cell_type": "code",
   "execution_count": null,
   "metadata": {},
   "outputs": [],
   "source": [
    "import numpy as np\n",
    "\n",
    "world_alcohol = np.genfromtxt(\"world_alcohol.txt\", delimiter=\",\", dtype=str)\n",
    "print(type(world_alcohol))\n",
    "print(world_alcohol) # ndarray\n",
    "print(help(np.genfromtxt))"
   ]
  },
  {
   "cell_type": "code",
   "execution_count": 42,
   "metadata": {},
   "outputs": [
    {
     "name": "stdout",
     "output_type": "stream",
     "text": [
      "1.16.2\n",
      "mkl_info:\n",
      "    libraries = ['mkl_rt']\n",
      "    library_dirs = ['C:/ProgramData/Anaconda3\\\\Library\\\\lib']\n",
      "    define_macros = [('SCIPY_MKL_H', None), ('HAVE_CBLAS', None)]\n",
      "    include_dirs = ['C:\\\\Program Files (x86)\\\\IntelSWTools\\\\compilers_and_libraries_2019.0.117\\\\windows\\\\mkl', 'C:\\\\Program Files (x86)\\\\IntelSWTools\\\\compilers_and_libraries_2019.0.117\\\\windows\\\\mkl\\\\include', 'C:\\\\Program Files (x86)\\\\IntelSWTools\\\\compilers_and_libraries_2019.0.117\\\\windows\\\\mkl\\\\lib', 'C:/ProgramData/Anaconda3\\\\Library\\\\include']\n",
      "blas_mkl_info:\n",
      "    libraries = ['mkl_rt']\n",
      "    library_dirs = ['C:/ProgramData/Anaconda3\\\\Library\\\\lib']\n",
      "    define_macros = [('SCIPY_MKL_H', None), ('HAVE_CBLAS', None)]\n",
      "    include_dirs = ['C:\\\\Program Files (x86)\\\\IntelSWTools\\\\compilers_and_libraries_2019.0.117\\\\windows\\\\mkl', 'C:\\\\Program Files (x86)\\\\IntelSWTools\\\\compilers_and_libraries_2019.0.117\\\\windows\\\\mkl\\\\include', 'C:\\\\Program Files (x86)\\\\IntelSWTools\\\\compilers_and_libraries_2019.0.117\\\\windows\\\\mkl\\\\lib', 'C:/ProgramData/Anaconda3\\\\Library\\\\include']\n",
      "blas_opt_info:\n",
      "    libraries = ['mkl_rt']\n",
      "    library_dirs = ['C:/ProgramData/Anaconda3\\\\Library\\\\lib']\n",
      "    define_macros = [('SCIPY_MKL_H', None), ('HAVE_CBLAS', None)]\n",
      "    include_dirs = ['C:\\\\Program Files (x86)\\\\IntelSWTools\\\\compilers_and_libraries_2019.0.117\\\\windows\\\\mkl', 'C:\\\\Program Files (x86)\\\\IntelSWTools\\\\compilers_and_libraries_2019.0.117\\\\windows\\\\mkl\\\\include', 'C:\\\\Program Files (x86)\\\\IntelSWTools\\\\compilers_and_libraries_2019.0.117\\\\windows\\\\mkl\\\\lib', 'C:/ProgramData/Anaconda3\\\\Library\\\\include']\n",
      "lapack_mkl_info:\n",
      "    libraries = ['mkl_rt']\n",
      "    library_dirs = ['C:/ProgramData/Anaconda3\\\\Library\\\\lib']\n",
      "    define_macros = [('SCIPY_MKL_H', None), ('HAVE_CBLAS', None)]\n",
      "    include_dirs = ['C:\\\\Program Files (x86)\\\\IntelSWTools\\\\compilers_and_libraries_2019.0.117\\\\windows\\\\mkl', 'C:\\\\Program Files (x86)\\\\IntelSWTools\\\\compilers_and_libraries_2019.0.117\\\\windows\\\\mkl\\\\include', 'C:\\\\Program Files (x86)\\\\IntelSWTools\\\\compilers_and_libraries_2019.0.117\\\\windows\\\\mkl\\\\lib', 'C:/ProgramData/Anaconda3\\\\Library\\\\include']\n",
      "lapack_opt_info:\n",
      "    libraries = ['mkl_rt']\n",
      "    library_dirs = ['C:/ProgramData/Anaconda3\\\\Library\\\\lib']\n",
      "    define_macros = [('SCIPY_MKL_H', None), ('HAVE_CBLAS', None)]\n",
      "    include_dirs = ['C:\\\\Program Files (x86)\\\\IntelSWTools\\\\compilers_and_libraries_2019.0.117\\\\windows\\\\mkl', 'C:\\\\Program Files (x86)\\\\IntelSWTools\\\\compilers_and_libraries_2019.0.117\\\\windows\\\\mkl\\\\include', 'C:\\\\Program Files (x86)\\\\IntelSWTools\\\\compilers_and_libraries_2019.0.117\\\\windows\\\\mkl\\\\lib', 'C:/ProgramData/Anaconda3\\\\Library\\\\include']\n"
     ]
    }
   ],
   "source": [
    "import numpy as np\n",
    "\n",
    "print(np.__version__)\n",
    "np.show_config()"
   ]
  },
  {
   "cell_type": "code",
   "execution_count": 45,
   "metadata": {},
   "outputs": [
    {
     "name": "stdout",
     "output_type": "stream",
     "text": [
      "[0. 0. 0. 0. 0.]\n"
     ]
    }
   ],
   "source": [
    "print(np.zeros(5))"
   ]
  },
  {
   "cell_type": "code",
   "execution_count": 47,
   "metadata": {},
   "outputs": [
    {
     "name": "stdout",
     "output_type": "stream",
     "text": [
      "[[0. 0. 0. 0. 0.]\n",
      " [0. 0. 0. 0. 0.]\n",
      " [0. 0. 0. 0. 0.]\n",
      " [0. 0. 0. 0. 0.]\n",
      " [0. 0. 0. 0. 0.]]\n"
     ]
    }
   ],
   "source": [
    "print(np.zeros((5,5)))"
   ]
  },
  {
   "cell_type": "code",
   "execution_count": 50,
   "metadata": {},
   "outputs": [
    {
     "name": "stdout",
     "output_type": "stream",
     "text": [
      "add(x1, x2, /, out=None, *, where=True, casting='same_kind', order='K', dtype=None, subok=True[, signature, extobj])\n",
      "\n",
      "Add arguments element-wise.\n",
      "\n",
      "Parameters\n",
      "----------\n",
      "x1, x2 : array_like\n",
      "    The arrays to be added.  If ``x1.shape != x2.shape``, they must be\n",
      "    broadcastable to a common shape (which may be the shape of one or\n",
      "    the other).\n",
      "out : ndarray, None, or tuple of ndarray and None, optional\n",
      "    A location into which the result is stored. If provided, it must have\n",
      "    a shape that the inputs broadcast to. If not provided or `None`,\n",
      "    a freshly-allocated array is returned. A tuple (possible only as a\n",
      "    keyword argument) must have length equal to the number of outputs.\n",
      "where : array_like, optional\n",
      "    Values of True indicate to calculate the ufunc at that position, values\n",
      "    of False indicate to leave the value in the output alone.\n",
      "**kwargs\n",
      "    For other keyword-only arguments, see the\n",
      "    :ref:`ufunc docs <ufuncs.kwargs>`.\n",
      "\n",
      "Returns\n",
      "-------\n",
      "add : ndarray or scalar\n",
      "    The sum of `x1` and `x2`, element-wise.\n",
      "    This is a scalar if both `x1` and `x2` are scalars.\n",
      "\n",
      "Notes\n",
      "-----\n",
      "Equivalent to `x1` + `x2` in terms of array broadcasting.\n",
      "\n",
      "Examples\n",
      "--------\n",
      ">>> np.add(1.0, 4.0)\n",
      "5.0\n",
      ">>> x1 = np.arange(9.0).reshape((3, 3))\n",
      ">>> x2 = np.arange(3.0)\n",
      ">>> np.add(x1, x2)\n",
      "array([[  0.,   2.,   4.],\n",
      "       [  3.,   5.,   7.],\n",
      "       [  6.,   8.,  10.]])\n"
     ]
    }
   ],
   "source": [
    "import numpy as np\n",
    "np.info(np.add)"
   ]
  },
  {
   "cell_type": "code",
   "execution_count": null,
   "metadata": {},
   "outputs": [],
   "source": [
    "import numpy as np\n",
    "np.info(np.ndarray)    #get the related infomation about (XXX)"
   ]
  },
  {
   "cell_type": "code",
   "execution_count": 52,
   "metadata": {},
   "outputs": [
    {
     "name": "stdout",
     "output_type": "stream",
     "text": [
      "[0. 0. 1. 0. 0.]\n"
     ]
    }
   ],
   "source": [
    "# 创建一个长度为5并且除了第3个值为1的空向量\n",
    "z = np.zeros(5)\n",
    "z[2] = 1\n",
    "print(z)"
   ]
  },
  {
   "cell_type": "code",
   "execution_count": 61,
   "metadata": {},
   "outputs": [
    {
     "name": "stdout",
     "output_type": "stream",
     "text": [
      "[10 11 12 13 14 15 16 17 18 19 20 21 22 23 24 25 26 27 28 29 30 31 32 33\n",
      " 34 35 36 37 38 39 40 41 42 43 44 45 46 47 48 49] \n",
      "\n",
      " [49 48 47 46 45 44 43 42 41 40 39 38 37 36 35 34 33 32 31 30 29 28 27 26\n",
      " 25 24 23 22 21 20 19 18 17 16 15 14 13 12 11 10]\n"
     ]
    }
   ],
   "source": [
    "# 创建一个值域范围从10到49的向量\n",
    "# 反转一个向量(第一个元素变为最后一个\n",
    "# import numpy as np\n",
    "z = np.arange(10, 50)\n",
    "z1 = z[::-1]\n",
    "print(z,'\\n\\n',z1)"
   ]
  },
  {
   "cell_type": "code",
   "execution_count": 62,
   "metadata": {},
   "outputs": [
    {
     "name": "stdout",
     "output_type": "stream",
     "text": [
      "[[0 1 2]\n",
      " [3 4 5]\n",
      " [6 7 8]]\n"
     ]
    }
   ],
   "source": [
    "# 创建一个 3x3 并且值从0到8的矩阵\n",
    "z = np.arange(9).reshape(3,3)\n",
    "print(z)"
   ]
  },
  {
   "cell_type": "code",
   "execution_count": 63,
   "metadata": {},
   "outputs": [
    {
     "name": "stdout",
     "output_type": "stream",
     "text": [
      "(array([0, 1, 4], dtype=int32),)\n"
     ]
    }
   ],
   "source": [
    "# 找到数组[1,2,0,0,4,0]中非0元素的位置索引\n",
    "nz = np.nonzero([1,2,0,0,4,0])\n",
    "print(nz)"
   ]
  },
  {
   "cell_type": "code",
   "execution_count": 64,
   "metadata": {},
   "outputs": [
    {
     "name": "stdout",
     "output_type": "stream",
     "text": [
      "[[1. 0. 0.]\n",
      " [0. 1. 0.]\n",
      " [0. 0. 1.]]\n"
     ]
    }
   ],
   "source": [
    "# 创建一个 3x3 的单位矩阵\n",
    "m = np.eye(3)\n",
    "print(m)"
   ]
  },
  {
   "cell_type": "code",
   "execution_count": 70,
   "metadata": {},
   "outputs": [
    {
     "name": "stdout",
     "output_type": "stream",
     "text": [
      "[[[0.38469311 0.74195642]\n",
      "  [0.6382349  0.53783267]\n",
      "  [0.69321525 0.80500195]]\n",
      "\n",
      " [[0.61627717 0.06918821]\n",
      "  [0.04656859 0.2042294 ]\n",
      "  [0.04318968 0.22912995]]]\n",
      "[[[0.49379058 0.41798999 0.41552498]\n",
      "  [0.81285047 0.14440705 0.04164441]\n",
      "  [0.15254411 0.62814312 0.48845156]]\n",
      "\n",
      " [[0.85051126 0.17054674 0.56215459]\n",
      "  [0.11174541 0.60066222 0.38488376]\n",
      "  [0.08162322 0.51068039 0.41070433]]\n",
      "\n",
      " [[0.66400666 0.5686297  0.19351253]\n",
      "  [0.07583558 0.16914522 0.30092034]\n",
      "  [0.876882   0.94645745 0.24484153]]] \n",
      "\n"
     ]
    }
   ],
   "source": [
    "# 创建一个 3x3x3的随机数组 \n",
    "m1 = np.random.random((2,3,2))\n",
    "print(m1)\n",
    "# m1 = np.random((3,3))\n",
    "# print(m1)\n",
    "m2 = np.random.random((3,3,3))\n",
    "print(m2,'\\n')"
   ]
  },
  {
   "cell_type": "code",
   "execution_count": 73,
   "metadata": {},
   "outputs": [
    {
     "name": "stdout",
     "output_type": "stream",
     "text": [
      "[[0.16084973 0.91812517 0.56471032 0.24156685 0.14269052]\n",
      " [0.21995644 0.96235967 0.38015336 0.67663003 0.19853331]\n",
      " [0.40277486 0.70062202 0.22892213 0.1054155  0.33161849]\n",
      " [0.84435626 0.61336605 0.24430485 0.82379611 0.14638389]\n",
      " [0.30356474 0.38143167 0.17955074 0.82404608 0.52829021]]\n",
      "0.1054155019467522 0.9623596727771797\n"
     ]
    }
   ],
   "source": [
    "# 创建一个 10x10 的随机数组并找到它的最大值和最小值\n",
    "z = np.random.random((5,5))\n",
    "print(z)\n",
    "zmin, zmax = z.min(), z.max()\n",
    "print(zmin, zmax)"
   ]
  },
  {
   "cell_type": "code",
   "execution_count": 78,
   "metadata": {},
   "outputs": [
    {
     "name": "stdout",
     "output_type": "stream",
     "text": [
      "[[0.88883613 0.65542983 0.31380294]\n",
      " [0.20567609 0.50294344 0.16614589]\n",
      " [0.40203786 0.72307135 0.9051727 ]] \n",
      "\n",
      " [[8.88836127 6.5542983  3.13802943]\n",
      " [2.05676092 5.02943441 1.66145886]\n",
      " [4.02037857 7.23071352 9.051727  ]]\n",
      "0.16614588560035393 0.9051726998167513\n"
     ]
    }
   ],
   "source": [
    "z = np.random.random((3,3))\n",
    "print(z,'\\n\\n',z*10)\n",
    "zmin, zmax = z.min(), z.max()\n",
    "print(zmin, zmax)"
   ]
  },
  {
   "cell_type": "code",
   "execution_count": 79,
   "metadata": {},
   "outputs": [
    {
     "name": "stdout",
     "output_type": "stream",
     "text": [
      "0.5828986687924791\n"
     ]
    }
   ],
   "source": [
    "# 创建一个长度为10的随机向量并找到它的平均值\n",
    "z = np.random.random(10)\n",
    "m = z.mean()\n",
    "print(m)"
   ]
  },
  {
   "cell_type": "code",
   "execution_count": 83,
   "metadata": {},
   "outputs": [
    {
     "name": "stdout",
     "output_type": "stream",
     "text": [
      "[[1. 1. 1. 1. 1.]\n",
      " [1. 0. 0. 0. 1.]\n",
      " [1. 0. 0. 0. 1.]\n",
      " [1. 0. 0. 0. 1.]\n",
      " [1. 1. 1. 1. 1.]]\n"
     ]
    }
   ],
   "source": [
    "#  创建一个二维数组，其中边界值为1，其余值为0\n",
    "Z = np.ones((5,5))\n",
    "Z[1:-1,1:-1] = 0\n",
    "print(Z)"
   ]
  },
  {
   "cell_type": "code",
   "execution_count": 84,
   "metadata": {},
   "outputs": [
    {
     "name": "stdout",
     "output_type": "stream",
     "text": [
      "[[0. 0. 0. 0. 0. 0.]\n",
      " [0. 1. 1. 1. 1. 0.]\n",
      " [0. 1. 1. 1. 1. 0.]\n",
      " [0. 1. 1. 1. 1. 0.]\n",
      " [0. 1. 1. 1. 1. 0.]\n",
      " [0. 0. 0. 0. 0. 0.]]\n"
     ]
    }
   ],
   "source": [
    "# 对于一个存在在数组，如何添加一个用0填充的边界\n",
    "# Z = np.ones((5,5))\n",
    "# Z = np.pad(Z, pad_width=1, mode='constant', constant_values=0)\n",
    "# print(Z)\n",
    "\n",
    "Z = np.zeros((6,6))\n",
    "Z[1:-1,1:-1] = 1\n",
    "print(Z)"
   ]
  },
  {
   "cell_type": "code",
   "execution_count": 106,
   "metadata": {},
   "outputs": [
    {
     "name": "stdout",
     "output_type": "stream",
     "text": [
      "False \n",
      "\n",
      "True \n",
      "\n",
      "True \n",
      "\n",
      "True \n",
      "\n",
      "True\n",
      "False\n",
      "True\n",
      "True\n",
      "False\n",
      "False\n",
      "True\n",
      "True\n"
     ]
    }
   ],
   "source": [
    "print(0.3 == 3 * 0.1, '\\n')\n",
    "print(0 == 0.3 * 0, '\\n')\n",
    "print(0.5 == 1 / 2, '\\n')\n",
    "a = 1\n",
    "b = 0.1 * 10\n",
    "print(a == b, '\\n')\n",
    "print(0.2 == 2 * 0.1)\n",
    "print(0.3 == 0.1 * 3)\n",
    "print(0.4 == 4 * 0.1)\n",
    "print(0.5 == 5 * 0.1)\n",
    "print(0.6 == 6 * 0.1)\n",
    "print(0.7 == 7 * 0.1)\n",
    "print(0.8 == 8 * 0.1)\n",
    "print(0.9 == 9 * 0.1)"
   ]
  },
  {
   "cell_type": "code",
   "execution_count": 108,
   "metadata": {},
   "outputs": [
    {
     "name": "stdout",
     "output_type": "stream",
     "text": [
      "nan\n",
      "False\n",
      "False\n",
      "nan\n"
     ]
    }
   ],
   "source": [
    "print(0 * np.nan)\n",
    "print(np.nan == np.nan)\n",
    "print(np.inf > np.nan)\n",
    "print(np.nan - np.nan)"
   ]
  },
  {
   "cell_type": "code",
   "execution_count": 110,
   "metadata": {},
   "outputs": [
    {
     "name": "stdout",
     "output_type": "stream",
     "text": [
      "[[0 0 0 0]\n",
      " [1 0 0 0]\n",
      " [0 2 0 0]\n",
      " [0 0 3 0]]\n"
     ]
    }
   ],
   "source": [
    "# 创建一个 3x3的矩阵，并设置值1,2,3,4落在其对角线下方位置\n",
    "Z = np.diag(1+np.arange(3),k=-1)\n",
    "print(Z)"
   ]
  },
  {
   "cell_type": "code",
   "execution_count": 112,
   "metadata": {},
   "outputs": [
    {
     "name": "stdout",
     "output_type": "stream",
     "text": [
      "[[0 1 0 1 0 1 0 1]\n",
      " [1 0 1 0 1 0 1 0]\n",
      " [0 1 0 1 0 1 0 1]\n",
      " [1 0 1 0 1 0 1 0]\n",
      " [0 1 0 1 0 1 0 1]\n",
      " [1 0 1 0 1 0 1 0]\n",
      " [0 1 0 1 0 1 0 1]\n",
      " [1 0 1 0 1 0 1 0]]\n"
     ]
    }
   ],
   "source": [
    "# 创建一个4x4 的矩阵，并且设置成棋盘样式\n",
    "Z = np.zeros((8,8),dtype=int)\n",
    "Z[1::2,::2] = 1\n",
    "Z[::2,1::2] = 1\n",
    "print(Z)"
   ]
  },
  {
   "cell_type": "code",
   "execution_count": null,
   "metadata": {},
   "outputs": [],
   "source": []
  }
 ],
 "metadata": {
  "kernelspec": {
   "display_name": "Python 3",
   "language": "python",
   "name": "python3"
  },
  "language_info": {
   "codemirror_mode": {
    "name": "ipython",
    "version": 3
   },
   "file_extension": ".py",
   "mimetype": "text/x-python",
   "name": "python",
   "nbconvert_exporter": "python",
   "pygments_lexer": "ipython3",
   "version": "3.7.3"
  }
 },
 "nbformat": 4,
 "nbformat_minor": 2
}
